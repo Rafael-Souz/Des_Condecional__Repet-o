{
  "nbformat": 4,
  "nbformat_minor": 0,
  "metadata": {
    "colab": {
      "name": "Des_Condecional_ Repetçãoaula_03.ipynb",
      "provenance": [],
      "collapsed_sections": [],
      "authorship_tag": "ABX9TyNqwuXwRHxk4yJRWtREG5+f",
      "include_colab_link": true
    },
    "kernelspec": {
      "name": "python3",
      "display_name": "Python 3"
    },
    "language_info": {
      "name": "python"
    }
  },
  "cells": [
    {
      "cell_type": "markdown",
      "metadata": {
        "id": "view-in-github",
        "colab_type": "text"
      },
      "source": [
        "<a href=\"https://colab.research.google.com/github/Rafael-Souz/Des_Condecional__Repet-o/blob/main/Des_Condecional__Repet%C3%A7%C3%A3oaula_03.ipynb\" target=\"_parent\"><img src=\"https://colab.research.google.com/assets/colab-badge.svg\" alt=\"Open In Colab\"/></a>"
      ]
    },
    {
      "cell_type": "markdown",
      "source": [
        "#Aula 03\n",
        "\n",
        "#Desvios Condicional e Estruturas de Repetição"
      ],
      "metadata": {
        "id": "cXOCGrTbCx3g"
      }
    },
    {
      "cell_type": "markdown",
      "source": [
        "#01 Desvios Condicional simples"
      ],
      "metadata": {
        "id": "BZFHpsq3EIzy"
      }
    },
    {
      "cell_type": "code",
      "execution_count": 1,
      "metadata": {
        "colab": {
          "base_uri": "https://localhost:8080/"
        },
        "id": "MAVkPLyZCnFv",
        "outputId": "f32c1cc6-6af6-44e8-9c1b-e30b02214e94"
      },
      "outputs": [
        {
          "output_type": "stream",
          "name": "stdout",
          "text": [
            "10 é menor que 20\n"
          ]
        }
      ],
      "source": [
        "if 10 < 20:\n",
        "  print('10 é menor que 20')"
      ]
    },
    {
      "cell_type": "markdown",
      "source": [
        "#Ex 02"
      ],
      "metadata": {
        "id": "aPVVpC47CwK_"
      }
    },
    {
      "cell_type": "code",
      "source": [
        "if 10> 20:\n",
        "  print(' 10 é maior que 20')"
      ],
      "metadata": {
        "id": "fwQXeFKkFTLv"
      },
      "execution_count": 2,
      "outputs": []
    },
    {
      "cell_type": "markdown",
      "source": [
        "#Ex 03"
      ],
      "metadata": {
        "id": "RX1r1D3rFmGw"
      }
    },
    {
      "cell_type": "code",
      "source": [
        "if ( 10 > 20) :\n",
        "  print('10 é maior que 20')\n",
        "print('Exectou depois da decisão')"
      ],
      "metadata": {
        "colab": {
          "base_uri": "https://localhost:8080/"
        },
        "id": "icmaiHpuFo5F",
        "outputId": "97a260c9-2cfa-4d7d-bbcb-3bf665e4c205"
      },
      "execution_count": 3,
      "outputs": [
        {
          "output_type": "stream",
          "name": "stdout",
          "text": [
            "Exectou depois da decisão\n"
          ]
        }
      ]
    },
    {
      "cell_type": "markdown",
      "source": [
        "#Ex 04"
      ],
      "metadata": {
        "id": "iZjwiIvSGR6W"
      }
    },
    {
      "cell_type": "code",
      "source": [
        "x = 2\n",
        "y = 3\n",
        "if x > (y and not x != y ):\n",
        "  print('Qual o resultado')"
      ],
      "metadata": {
        "colab": {
          "base_uri": "https://localhost:8080/"
        },
        "id": "OkU136nSGT_9",
        "outputId": "9202280d-d464-46ae-da7c-5343dbeb3ab1"
      },
      "execution_count": 6,
      "outputs": [
        {
          "output_type": "stream",
          "name": "stdout",
          "text": [
            "Qual o resultado\n"
          ]
        }
      ]
    },
    {
      "cell_type": "markdown",
      "source": [
        "# Desvio Condicional Com Senão (else)"
      ],
      "metadata": {
        "id": "6sKhZvgjHyM7"
      }
    },
    {
      "cell_type": "markdown",
      "source": [
        "#Ex 01"
      ],
      "metadata": {
        "id": "HdhDlsDfIHM3"
      }
    },
    {
      "cell_type": "code",
      "source": [
        "if (10 > 20):\n",
        "  print('10 é maior que 20')\n",
        "else:\n",
        "   print('10 é maior que 20')"
      ],
      "metadata": {
        "colab": {
          "base_uri": "https://localhost:8080/"
        },
        "id": "y_T0oMMEIEkf",
        "outputId": "f6f50f13-67b6-484d-92de-303df8841414"
      },
      "execution_count": 7,
      "outputs": [
        {
          "output_type": "stream",
          "name": "stdout",
          "text": [
            "10 é maior que 20\n"
          ]
        }
      ]
    },
    {
      "cell_type": "markdown",
      "source": [
        "#Ex encadeado"
      ],
      "metadata": {
        "id": "HY_7NviYIjb6"
      }
    },
    {
      "cell_type": "code",
      "source": [
        "x = 5 \n",
        "y = 7\n",
        "if (x < y) :\n",
        "  print('y é maior que x')\n",
        "  if (10 < 20):\n",
        "     print('10 é maior que 20')\n",
        "else:\n",
        "   print('O que será impreso?')"
      ],
      "metadata": {
        "colab": {
          "base_uri": "https://localhost:8080/"
        },
        "id": "6cty_cw6Imw_",
        "outputId": "1853f86c-6404-447d-d7d6-1c156f6f3bf4"
      },
      "execution_count": 11,
      "outputs": [
        {
          "output_type": "stream",
          "name": "stdout",
          "text": [
            "y é maior que x\n",
            "10 é maior que 20\n"
          ]
        }
      ]
    },
    {
      "cell_type": "markdown",
      "source": [
        "# Desvio  if-elif-else"
      ],
      "metadata": {
        "id": "9xi22jdHKfnc"
      }
    },
    {
      "cell_type": "code",
      "source": [
        "x = 2\n",
        "y = 2\n",
        "z = 3\n",
        "if (x <y):\n",
        "  print('X é menor que Y')\n",
        "elif (y < z):\n",
        "  print('Y é menor que z')\n",
        "else:\n",
        "  print('nada a fazer!')"
      ],
      "metadata": {
        "colab": {
          "base_uri": "https://localhost:8080/"
        },
        "id": "xw2XjGIXKlq6",
        "outputId": "73539574-d130-4e6a-e4cd-d1e116ef0871"
      },
      "execution_count": 13,
      "outputs": [
        {
          "output_type": "stream",
          "name": "stdout",
          "text": [
            "Y é menor que z\n"
          ]
        }
      ]
    },
    {
      "cell_type": "markdown",
      "source": [
        "#Ex de negação da verdade (true)"
      ],
      "metadata": {
        "id": "nl7Z8yutMDAR"
      }
    },
    {
      "cell_type": "code",
      "source": [
        "x =1\n",
        "y = 2\n",
        "if not (x > y):# se não falso, então verdade\n",
        "  print('x é menor que y')"
      ],
      "metadata": {
        "colab": {
          "base_uri": "https://localhost:8080/"
        },
        "id": "S6CQbkF-L0_j",
        "outputId": "30410d55-c1cd-4ed5-d1e3-1092babb2522"
      },
      "execution_count": 14,
      "outputs": [
        {
          "output_type": "stream",
          "name": "stdout",
          "text": [
            "x é menor que y\n"
          ]
        }
      ]
    },
    {
      "cell_type": "markdown",
      "source": [
        "#Vamos treinar\n",
        "#Desenvolver um programa que recebe a idade de um pessoa,\n",
        "# se ela é: criança, adolescente, adulto ou idosa"
      ],
      "metadata": {
        "id": "VyuQcqMLNcqk"
      }
    },
    {
      "cell_type": "code",
      "source": [
        "idade = 60\n",
        "\n",
        "\n",
        "if (idade < 12):\n",
        "  print('Criança')\n",
        "elif (idade < 18):\n",
        "  print('Adolescente')\n",
        "elif (idade < 60):\n",
        "  print('Adulto')\n",
        "else:\n",
        "  print('Idoso')"
      ],
      "metadata": {
        "colab": {
          "base_uri": "https://localhost:8080/"
        },
        "id": "sXf7j3SKM-2U",
        "outputId": "ecd98cca-4ec7-4d2e-e419-a3ab6bbcecad"
      },
      "execution_count": 17,
      "outputs": [
        {
          "output_type": "stream",
          "name": "stdout",
          "text": [
            "Idoso\n"
          ]
        }
      ]
    },
    {
      "cell_type": "markdown",
      "source": [
        "#Faça um programa que leia o peso e altura de uma pessoa e mostre seu IMC e qual o seu estado nutricional.\n",
        "\n",
        "#<from>Imc = Peso / Altura * Altura</from>\n",
        "\n",
        "#18,5 Abaixo do peso;\n",
        "#18,5 and  24,9 Peso normal;\n",
        "#25 and  <=29,9 Sobrepeso;\n",
        "#30 and34,9 Obsidade grau 1;\n",
        "#35 and imc <= 39,9 Obsidade grau 2;\n",
        "#else: Obssidade grau 3;"
      ],
      "metadata": {
        "id": "t4C1x746QVuj"
      }
    },
    {
      "cell_type": "code",
      "source": [
        "peso = float(input('Digite seu peso: '))\n",
        "altura = float(input('Digite sua altura: '))\n",
        "imc = peso/(altura*altura)\n",
        "if imc < 18.5:\n",
        "  print('Abaixo do peso')\n",
        "elif imc < 24.9:\n",
        "  print('Peso normal')\n",
        "elif imc < 29.9:\n",
        "  print('Sobrepeso')\n",
        "elif imc < 34.9:\n",
        "  print('Obesidade grau 1')\n",
        "elif imc < 39.9:\n",
        "  print('Obesidade grau 2')\n",
        "else:\n",
        "  print('Obesidade grau 3')"
      ],
      "metadata": {
        "colab": {
          "base_uri": "https://localhost:8080/"
        },
        "id": "vyH5J05aQ3_5",
        "outputId": "ed7287b3-e9a8-411e-8434-ff57d9050a6f"
      },
      "execution_count": 20,
      "outputs": [
        {
          "output_type": "stream",
          "name": "stdout",
          "text": [
            "Digite seu peso: 82\n",
            "Digite sua altura: 186\n",
            "Abaixo do peso\n"
          ]
        }
      ]
    },
    {
      "cell_type": "markdown",
      "source": [
        "#Estrutura de Repetição\n",
        "#for e while"
      ],
      "metadata": {
        "id": "iPc_fVlDVopf"
      }
    },
    {
      "cell_type": "markdown",
      "source": [
        "#Ex 01"
      ],
      "metadata": {
        "id": "NFLamv1KWADQ"
      }
    },
    {
      "cell_type": "code",
      "source": [
        "for i in range(1, 11):#range = intervalo\n",
        "  print(i)"
      ],
      "metadata": {
        "colab": {
          "base_uri": "https://localhost:8080/"
        },
        "id": "DGcNc8FZVxJw",
        "outputId": "71947a51-17b2-4f76-ca8c-66e7386541f6"
      },
      "execution_count": 21,
      "outputs": [
        {
          "output_type": "stream",
          "name": "stdout",
          "text": [
            "1\n",
            "2\n",
            "3\n",
            "4\n",
            "5\n",
            "6\n",
            "7\n",
            "8\n",
            "9\n",
            "10\n"
          ]
        }
      ]
    },
    {
      "cell_type": "markdown",
      "source": [
        "#Ex 02\n",
        "#for\n"
      ],
      "metadata": {
        "id": "Em9cMfRkXM3k"
      }
    },
    {
      "cell_type": "code",
      "source": [
        "for i in range(1, 11 , 2):#pular de dois em dois\n",
        "  print(i)"
      ],
      "metadata": {
        "colab": {
          "base_uri": "https://localhost:8080/"
        },
        "id": "0LJx2MlSXPy-",
        "outputId": "1af1ead5-942c-47d3-aa3f-4727ee134a00"
      },
      "execution_count": 22,
      "outputs": [
        {
          "output_type": "stream",
          "name": "stdout",
          "text": [
            "1\n",
            "3\n",
            "5\n",
            "7\n",
            "9\n"
          ]
        }
      ]
    },
    {
      "cell_type": "markdown",
      "source": [
        "#Ex 03\n",
        "#while"
      ],
      "metadata": {
        "id": "AnJ4henJahtO"
      }
    },
    {
      "cell_type": "code",
      "source": [
        "contador = 1\n",
        "while (contador < 11):\n",
        "  print(contador)\n",
        "  contador +=1"
      ],
      "metadata": {
        "colab": {
          "base_uri": "https://localhost:8080/"
        },
        "id": "zKseC_14Z61y",
        "outputId": "5636b70a-98c1-4edc-94ce-5f8827ab8906"
      },
      "execution_count": 25,
      "outputs": [
        {
          "output_type": "stream",
          "name": "stdout",
          "text": [
            "1\n",
            "2\n",
            "3\n",
            "4\n",
            "5\n",
            "6\n",
            "7\n",
            "8\n",
            "9\n",
            "10\n"
          ]
        }
      ]
    },
    {
      "cell_type": "markdown",
      "source": [
        ""
      ],
      "metadata": {
        "id": "vMSTprO-b5bm"
      }
    }
  ]
}